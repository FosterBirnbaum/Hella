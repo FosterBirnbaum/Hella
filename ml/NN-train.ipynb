{
 "cells": [
  {
   "cell_type": "code",
   "execution_count": null,
   "metadata": {},
   "outputs": [],
   "source": [
    "%matplotlib notebook\n",
    "\n",
    "import time\n",
    "\n",
    "import pandas as pd\n",
    "from sklearn.model_selection import train_test_split\n",
    "import numpy as np\n",
    "from scipy.stats.stats import pearsonr\n",
    "import matplotlib.pyplot as plt\n",
    "import tensorflow as tf\n",
    "from sklearn.utils import shuffle\n",
    "import sklearn"
   ]
  },
  {
   "cell_type": "code",
   "execution_count": null,
   "metadata": {},
   "outputs": [],
   "source": [
    "# read dataset\n",
    "def load_data():\n",
    "    train_data = shuffle(pd.read_csv('data/KDDTrain+.csv', header=None))\n",
    "    test_data = shuffle(pd.read_csv('data/KDDTest+.csv', header=None))\n",
    "    \n",
    "    symbolic_cols = [1, 2, 3]\n",
    "    \n",
    "    train_data.iloc[:, -2] = train_data.iloc[:, -2].map(lambda x: 0 if x == 'normal' else 1)\n",
    "    test_data.iloc[:, -2] = test_data.iloc[:, -2].map(lambda x: 0 if x == 'normal' else 1)\n",
    "    \n",
    "    train_data_x = train_data.iloc[:, :-2].values \n",
    "    train_data_y = train_data.iloc[:, -2: -1].values\n",
    "    \n",
    "    test_data_x = test_data.iloc[:, :-2].values\n",
    "    test_data_y = test_data.iloc[:, -2: -1].values\n",
    "    \n",
    "    for col in symbolic_cols:\n",
    "        enc = sklearn.preprocessing.LabelEncoder()\n",
    "        enc.fit(train_data_x[:, col])\n",
    "        transformed = enc.transform(train_data_x[:, col])\n",
    "        train_data_x[:, col] = transformed\n",
    "        transformed_test = enc.transform(test_data_x[:, col])\n",
    "        test_data_x[:, col] = transformed_test\n",
    "    \n",
    "#     create_symbolic_mapping(train_data_y, [0])\n",
    "#     print(len(create_symbolic_mapping(test_data_y, [0])[0]))\n",
    "    \n",
    "#     output_enc = sklearn.preprocessing.LabelEncoder()\n",
    "#     output_enc.fit(train_data_y[:, 0])\n",
    "#     transformed = output_enc.transform(train_data_y[:, 0])\n",
    "#     transformed_test = output_enc.transform(test_data_y[:, 0])\n",
    "    \n",
    "#     train_data_y[:, 0] = transformed\n",
    "#     test_data_y[:, 0] = transformed_test\n",
    "\n",
    "    means = np.mean(train_data_x, axis=0, keepdims=True)\n",
    "    stds = np.std(train_data_y, axis=0, keepdims=True)\n",
    "    \n",
    "    train_data_x = (train_data_x - means) / stds\n",
    "    test_data_x = (test_data_x - means) / stds\n",
    "    \n",
    "    # convert lablels to 2 classes (2 cols per example) \n",
    "    train_data_y = np.eye(2)[train_data_y].reshape(-1, 2)\n",
    "    test_data_y = np.eye(2)[test_data_y].reshape(-1, 2)\n",
    "\n",
    "    return train_data_x, train_data_y, test_data_x, test_data_y"
   ]
  },
  {
   "cell_type": "code",
   "execution_count": null,
   "metadata": {},
   "outputs": [],
   "source": [
    "def create_symbolic_mapping(data, columns):\n",
    "    \n",
    "    values = [[] for _ in range(len(columns))]\n",
    "    for i, col in enumerate(columns):\n",
    "        for ex in data:\n",
    "            val = ex[col]\n",
    "            if val not in values[i]:\n",
    "                values[i].append(val)\n",
    "    print(values)\n",
    "    return values\n"
   ]
  },
  {
   "cell_type": "code",
   "execution_count": null,
   "metadata": {},
   "outputs": [],
   "source": [
    "def random_test_train_split(data):\n",
    "    \"\"\"\n",
    "    Splits the data into test and training sets, assuming last column is the label\n",
    "    \n",
    "    Parameters:\n",
    "    -----------\n",
    "    data: pandas.DataFrame\n",
    "        consolidated dataset returned by load_data() or normalize_data()\n",
    "    \"\"\"\n",
    "    x_cols = data.columns[:-2]\n",
    "    X = data[x_cols]\n",
    "    \n",
    "    y_cols = data.columns[-2:-1]\n",
    "    y = data[y_cols]\n",
    "    \n",
    "    X_train, X_test, y_train, y_test = train_test_split(X, y, test_size=0.2)\n",
    "    return X_train, X_test, y_train, y_test"
   ]
  },
  {
   "cell_type": "code",
   "execution_count": null,
   "metadata": {},
   "outputs": [],
   "source": [
    "def normalize_data(data):\n",
    "    \"\"\"\n",
    "    Centers continuous variables around 0, and scales by 1/std\n",
    "    \n",
    "    Parameters:\n",
    "    -----------\n",
    "    data: pandas.DataFrame\n",
    "        consolidated dataset returned by load_data()\n",
    "\n",
    "    TODO: handle categorical variables\n",
    "    \"\"\"\n",
    "    t_data = data - np.mean(data)\n",
    "    t_data = t_data / np.std(data)\n",
    "    return t_data"
   ]
  },
  {
   "cell_type": "code",
   "execution_count": null,
   "metadata": {},
   "outputs": [],
   "source": [
    "def forwardprop(X):\n",
    "    \"\"\"\n",
    "    yhat is not softmax since TensorFlow's softmax_cross_entropy_with_logits() does that internally.\n",
    "    \"\"\"\n",
    "    h1    = tf.contrib.layers.fully_connected(X, 128,\n",
    "                activation_fn=tf.nn.relu,\n",
    "                normalizer_fn=tf.contrib.layers.batch_norm,\n",
    "                normalizer_params=None,\n",
    "                weights_initializer=tf.contrib.layers.xavier_initializer(),\n",
    "                weights_regularizer=tf.contrib.layers.l2_regularizer(0.0),\n",
    "                biases_initializer=tf.zeros_initializer(),\n",
    "                biases_regularizer=None,\n",
    "                reuse=None,\n",
    "                variables_collections=None,\n",
    "                outputs_collections=None,\n",
    "                trainable=True,\n",
    "                scope=None\n",
    "            )\n",
    "    h2 = tf.contrib.layers.fully_connected(h1, 64,\n",
    "                activation_fn=tf.nn.relu,\n",
    "                normalizer_fn=tf.contrib.layers.batch_norm,\n",
    "                normalizer_params=None,\n",
    "                weights_initializer=tf.contrib.layers.xavier_initializer(),\n",
    "                weights_regularizer=tf.contrib.layers.l2_regularizer(0.0),\n",
    "                biases_initializer=tf.zeros_initializer(),\n",
    "                biases_regularizer=None,\n",
    "                reuse=None,\n",
    "                variables_collections=None,\n",
    "                outputs_collections=None,\n",
    "                trainable=True,\n",
    "                scope=None\n",
    "            )\n",
    "    h3 = tf.contrib.layers.fully_connected(h2, 2,\n",
    "                activation_fn=tf.nn.sigmoid,\n",
    "                normalizer_fn=None,\n",
    "                normalizer_params=None,\n",
    "                weights_initializer=tf.contrib.layers.xavier_initializer(),\n",
    "                weights_regularizer=tf.contrib.layers.l2_regularizer(0.0),\n",
    "                biases_initializer=tf.zeros_initializer(),\n",
    "                biases_regularizer=None,\n",
    "                reuse=None,\n",
    "                variables_collections=None,\n",
    "                outputs_collections=None,\n",
    "                trainable=True,\n",
    "                scope=None\n",
    "            )\n",
    "    yhat = h3\n",
    "    return yhat"
   ]
  },
  {
   "cell_type": "code",
   "execution_count": null,
   "metadata": {},
   "outputs": [],
   "source": [
    "train_X, train_y, test_X, test_y = load_data()"
   ]
  },
  {
   "cell_type": "code",
   "execution_count": null,
   "metadata": {},
   "outputs": [],
   "source": [
    "# Layer's sizes\n",
    "x_size = train_X.shape[1]   # Number of input nodes\n",
    "y_size = train_y.shape[1]   # Number of outcomes\n"
   ]
  },
  {
   "cell_type": "code",
   "execution_count": null,
   "metadata": {},
   "outputs": [],
   "source": [
    "print(train_X.shape)\n",
    "print(train_y.shape)"
   ]
  },
  {
   "cell_type": "code",
   "execution_count": null,
   "metadata": {},
   "outputs": [],
   "source": [
    "# Symbols\n",
    "X = tf.placeholder(\"float\", shape=[None, x_size])\n",
    "y = tf.placeholder(\"float\", shape=[None, y_size])"
   ]
  },
  {
   "cell_type": "code",
   "execution_count": null,
   "metadata": {},
   "outputs": [],
   "source": [
    "# Forward propagation\n",
    "yhat   = forwardprop(X)\n",
    "# predict = tf.argmax(yhat, axis=1)"
   ]
  },
  {
   "cell_type": "code",
   "execution_count": null,
   "metadata": {},
   "outputs": [],
   "source": [
    "# Backward propagation\n",
    "cost    = tf.nn.softmax_cross_entropy_with_logits(labels=y, logits=yhat)\n",
    "updates = tf.train.AdamOptimizer(0.001).minimize(cost)\n"
   ]
  },
  {
   "cell_type": "code",
   "execution_count": null,
   "metadata": {},
   "outputs": [],
   "source": [
    "# Run SGD\n",
    "with tf.device('/cpu:0'):\n",
    "    sess = tf.Session()\n",
    "    init = tf.global_variables_initializer()\n",
    "    sess.run(init)\n",
    "    NUM_EPOCHS = 1000\n",
    "    BATCH_SIZE = 2000\n",
    "    for epoch in range(NUM_EPOCHS):\n",
    "        # Train with each example\n",
    "        tic = time.time()\n",
    "        num_iters = len(train_X) // BATCH_SIZE\n",
    "        for i in range(num_iters):\n",
    "            idx1 = BATCH_SIZE * i\n",
    "            idx2 = idx1 + BATCH_SIZE\n",
    "            _, loss = sess.run([updates, cost], feed_dict={X: train_X[idx1:idx2], y: train_y[idx1:idx2]})\n",
    "        \n",
    "        pred_train = sess.run(yhat, feed_dict={X: train_X, y: train_y})\n",
    "        # threshold outputs at 0.5\n",
    "        pred_train = pred_train > 0.5\n",
    "        train_accuracy = np.mean(train_y == pred_train)\n",
    "        print(np.mean(pred_train))\n",
    "        \n",
    "        pred_test = sess.run(yhat, feed_dict={X: test_X, y: test_y})\n",
    "        pred_test = pred_test > 0.5\n",
    "        test_accuracy = np.mean(test_y == pred_test)\n",
    "        toc = time.time()\n",
    "        if epoch % 10 == 0:\n",
    "            print('time:', toc-tic)\n",
    "            print(\"Epoch = %d, train acc. = %.2f, test acc. = %.2f, loss: %.2f\"\n",
    "                  % (epoch + 1, train_accuracy, test_accuracy, np.mean(loss)))\n",
    "    sess.close()\n"
   ]
  },
  {
   "cell_type": "code",
   "execution_count": null,
   "metadata": {},
   "outputs": [],
   "source": []
  }
 ],
 "metadata": {
  "kernelspec": {
   "display_name": "Python 3",
   "language": "python",
   "name": "python3"
  },
  "language_info": {
   "codemirror_mode": {
    "name": "ipython",
    "version": 3
   },
   "file_extension": ".py",
   "mimetype": "text/x-python",
   "name": "python",
   "nbconvert_exporter": "python",
   "pygments_lexer": "ipython3",
   "version": "3.6.4"
  }
 },
 "nbformat": 4,
 "nbformat_minor": 2
}
