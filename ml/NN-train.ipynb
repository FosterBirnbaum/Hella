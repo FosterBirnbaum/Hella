{
 "cells": [
  {
   "cell_type": "code",
   "execution_count": 35,
   "metadata": {},
   "outputs": [],
   "source": [
    "%matplotlib notebook\n",
    "\n",
    "import time\n",
    "\n",
    "import pandas as pd\n",
    "from sklearn.model_selection import train_test_split\n",
    "import numpy as np\n",
    "from scipy.stats.stats import pearsonr\n",
    "import matplotlib.pyplot as plt\n",
    "import tensorflow as tf\n",
    "from sklearn.utils import shuffle\n",
    "import sklearn"
   ]
  },
  {
   "cell_type": "code",
   "execution_count": 69,
   "metadata": {},
   "outputs": [],
   "source": [
    "# read dataset\n",
    "def load_data():\n",
    "    train_data = shuffle(pd.read_csv('data/KDDTrain+.csv', header=None))\n",
    "    test_data = shuffle(pd.read_csv('data/KDDTest+.csv', header=None))\n",
    "    \n",
    "    symbolic_cols = [1, 2, 3]\n",
    "    \n",
    "    train_data.iloc[:, -2] = train_data.iloc[:, -2].map(lambda x: 0 if x == 'normal' else 1)\n",
    "    test_data.iloc[:, -2] = test_data.iloc[:, -2].map(lambda x: 0 if x == 'normal' else 1)\n",
    "    \n",
    "    train_data_x = train_data.iloc[:, :-2].values \n",
    "    train_data_y = train_data.iloc[:, -2: -1].values\n",
    "    \n",
    "    test_data_x = test_data.iloc[:, :-2].values\n",
    "    test_data_y = test_data.iloc[:, -2: -1].values\n",
    "    \n",
    "    for col in symbolic_cols:\n",
    "        enc = sklearn.preprocessing.LabelEncoder()\n",
    "        enc.fit(train_data_x[:, col])\n",
    "        transformed = enc.transform(train_data_x[:, col])\n",
    "        train_data_x[:, col] = transformed\n",
    "        transformed_test = enc.transform(test_data_x[:, col])\n",
    "        test_data_x[:, col] = transformed_test\n",
    "    \n",
    "#     create_symbolic_mapping(train_data_y, [0])\n",
    "#     print(len(create_symbolic_mapping(test_data_y, [0])[0]))\n",
    "    \n",
    "#     output_enc = sklearn.preprocessing.LabelEncoder()\n",
    "#     output_enc.fit(train_data_y[:, 0])\n",
    "#     transformed = output_enc.transform(train_data_y[:, 0])\n",
    "#     transformed_test = output_enc.transform(test_data_y[:, 0])\n",
    "    \n",
    "#     train_data_y[:, 0] = transformed\n",
    "#     test_data_y[:, 0] = transformed_test\n",
    "\n",
    "    means = np.mean(train_data_x, axis=0, keepdims=True)\n",
    "    stds = np.std(train_data_y, axis=0, keepdims=True)\n",
    "    \n",
    "    train_data_x = (train_data_x - means) / stds\n",
    "    test_data_x = (test_data_x - means) / stds\n",
    "    \n",
    "    \n",
    "    return train_data_x, train_data_y, test_data_x, test_data_y"
   ]
  },
  {
   "cell_type": "code",
   "execution_count": 65,
   "metadata": {},
   "outputs": [],
   "source": [
    "def create_symbolic_mapping(data, columns):\n",
    "    \n",
    "    values = [[] for _ in range(len(columns))]\n",
    "    for i, col in enumerate(columns):\n",
    "        for ex in data:\n",
    "            val = ex[col]\n",
    "            if val not in values[i]:\n",
    "                values[i].append(val)\n",
    "    print(values)\n",
    "    return values\n"
   ]
  },
  {
   "cell_type": "code",
   "execution_count": 66,
   "metadata": {},
   "outputs": [],
   "source": [
    "def random_test_train_split(data):\n",
    "    \"\"\"\n",
    "    Splits the data into test and training sets, assuming last column is the label\n",
    "    \n",
    "    Parameters:\n",
    "    -----------\n",
    "    data: pandas.DataFrame\n",
    "        consolidated dataset returned by load_data() or normalize_data()\n",
    "    \"\"\"\n",
    "    x_cols = data.columns[:-2]\n",
    "    X = data[x_cols]\n",
    "    \n",
    "    y_cols = data.columns[-2:-1]\n",
    "    y = data[y_cols]\n",
    "    \n",
    "    X_train, X_test, y_train, y_test = train_test_split(X, y, test_size=0.2)\n",
    "    return X_train, X_test, y_train, y_test"
   ]
  },
  {
   "cell_type": "code",
   "execution_count": 67,
   "metadata": {},
   "outputs": [],
   "source": [
    "def normalize_data(data):\n",
    "    \"\"\"\n",
    "    Centers continuous variables around 0, and scales by 1/std\n",
    "    \n",
    "    Parameters:\n",
    "    -----------\n",
    "    data: pandas.DataFrame\n",
    "        consolidated dataset returned by load_data()\n",
    "\n",
    "    TODO: handle categorical variables\n",
    "    \"\"\"\n",
    "    t_data = data - np.mean(data)\n",
    "    t_data = t_data / np.std(data)\n",
    "    return t_data"
   ]
  },
  {
   "cell_type": "code",
   "execution_count": 76,
   "metadata": {},
   "outputs": [],
   "source": [
    "def forwardprop(X):\n",
    "    \"\"\"\n",
    "    yhat is not softmax since TensorFlow's softmax_cross_entropy_with_logits() does that internally.\n",
    "    \"\"\"\n",
    "    h1    = tf.contrib.layers.fully_connected(X, 128,\n",
    "                activation_fn=tf.nn.relu,\n",
    "                normalizer_fn=tf.contrib.layers.batch_norm,\n",
    "                normalizer_params=None,\n",
    "                weights_initializer=tf.contrib.layers.xavier_initializer(),\n",
    "                weights_regularizer=tf.contrib.layers.l2_regularizer(0.0),\n",
    "                biases_initializer=tf.zeros_initializer(),\n",
    "                biases_regularizer=None,\n",
    "                reuse=None,\n",
    "                variables_collections=None,\n",
    "                outputs_collections=None,\n",
    "                trainable=True,\n",
    "                scope=None\n",
    "            )\n",
    "    h2 = tf.contrib.layers.fully_connected(h1, 64,\n",
    "                activation_fn=tf.nn.relu,\n",
    "                normalizer_fn=tf.contrib.layers.batch_norm,\n",
    "                normalizer_params=None,\n",
    "                weights_initializer=tf.contrib.layers.xavier_initializer(),\n",
    "                weights_regularizer=tf.contrib.layers.l2_regularizer(0.0),\n",
    "                biases_initializer=tf.zeros_initializer(),\n",
    "                biases_regularizer=None,\n",
    "                reuse=None,\n",
    "                variables_collections=None,\n",
    "                outputs_collections=None,\n",
    "                trainable=True,\n",
    "                scope=None\n",
    "            )\n",
    "    h3 = tf.contrib.layers.fully_connected(h2, 1,\n",
    "                activation_fn=tf.nn.sigmoid,\n",
    "                normalizer_fn=None,\n",
    "                normalizer_params=None,\n",
    "                weights_initializer=tf.contrib.layers.xavier_initializer(),\n",
    "                weights_regularizer=tf.contrib.layers.l2_regularizer(0.0),\n",
    "                biases_initializer=tf.zeros_initializer(),\n",
    "                biases_regularizer=None,\n",
    "                reuse=None,\n",
    "                variables_collections=None,\n",
    "                outputs_collections=None,\n",
    "                trainable=True,\n",
    "                scope=None\n",
    "            )\n",
    "    yhat = h3\n",
    "    return yhat"
   ]
  },
  {
   "cell_type": "code",
   "execution_count": 77,
   "metadata": {},
   "outputs": [],
   "source": [
    "train_X, train_y, test_X, test_y = load_data()"
   ]
  },
  {
   "cell_type": "code",
   "execution_count": 82,
   "metadata": {},
   "outputs": [],
   "source": [
    "# Layer's sizes\n",
    "x_size = train_X.shape[1]   # Number of input nodes\n",
    "y_size = train_y.shape[1]   # Number of outcomes\n"
   ]
  },
  {
   "cell_type": "code",
   "execution_count": 104,
   "metadata": {},
   "outputs": [
    {
     "name": "stdout",
     "output_type": "stream",
     "text": [
      "(125973, 41)\n",
      "(125973, 1)\n"
     ]
    }
   ],
   "source": [
    "print(train_X.shape)\n",
    "print(train_y.shape)"
   ]
  },
  {
   "cell_type": "code",
   "execution_count": 84,
   "metadata": {},
   "outputs": [],
   "source": [
    "# Symbols\n",
    "X = tf.placeholder(\"float\", shape=[None, x_size])\n",
    "y = tf.placeholder(\"float\", shape=[None, y_size])"
   ]
  },
  {
   "cell_type": "code",
   "execution_count": 85,
   "metadata": {},
   "outputs": [
    {
     "name": "stdout",
     "output_type": "stream",
     "text": [
      "INFO:tensorflow:Scale of 0 disables regularizer.\n",
      "INFO:tensorflow:Scale of 0 disables regularizer.\n",
      "INFO:tensorflow:Scale of 0 disables regularizer.\n"
     ]
    }
   ],
   "source": [
    "# Forward propagation\n",
    "yhat   = forwardprop(X)\n",
    "# predict = tf.argmax(yhat, axis=1)"
   ]
  },
  {
   "cell_type": "code",
   "execution_count": 89,
   "metadata": {},
   "outputs": [],
   "source": [
    "# Backward propagation\n",
    "cost    = tf.nn.softmax_cross_entropy_with_logits(labels=y, logits=yhat)\n",
    "updates = tf.train.AdamOptimizer(0.01).minimize(cost)\n"
   ]
  },
  {
   "cell_type": "code",
   "execution_count": 103,
   "metadata": {},
   "outputs": [
    {
     "name": "stdout",
     "output_type": "stream",
     "text": [
      "time: 1.1754350662231445\n",
      "0.00177037\n",
      "Epoch = 1, train error = 0.00, test error = 0.00, loss: 0.00\n",
      "time: 1.245074987411499\n",
      "2.46637e-05\n",
      "Epoch = 11, train error = 0.00, test error = 0.00, loss: 0.00\n",
      "time: 1.2850821018218994\n",
      "5.44172e-06\n",
      "Epoch = 21, train error = 0.00, test error = 0.00, loss: 0.00\n",
      "time: 1.2034428119659424\n",
      "1.97664e-06\n",
      "Epoch = 31, train error = 0.00, test error = 0.00, loss: 0.00\n",
      "time: 2.424307346343994\n",
      "8.69047e-07\n",
      "Epoch = 41, train error = 0.00, test error = 0.00, loss: 0.00\n",
      "time: 1.2308521270751953\n",
      "4.06055e-07\n",
      "Epoch = 51, train error = 0.00, test error = 0.00, loss: 0.00\n",
      "time: 1.1576769351959229\n",
      "1.88281e-07\n",
      "Epoch = 61, train error = 0.00, test error = 0.00, loss: 0.00\n",
      "time: 1.175523281097412\n",
      "9.47047e-08\n",
      "Epoch = 71, train error = 0.00, test error = 0.00, loss: 0.00\n",
      "time: 1.2223460674285889\n",
      "5.18945e-08\n",
      "Epoch = 81, train error = 0.00, test error = 0.00, loss: 0.00\n",
      "time: 1.2040491104125977\n",
      "2.24128e-08\n",
      "Epoch = 91, train error = 0.00, test error = 0.00, loss: 0.00\n",
      "time: 1.1883430480957031\n",
      "1.17204e-08\n",
      "Epoch = 101, train error = 0.00, test error = 0.00, loss: 0.00\n",
      "time: 1.2532141208648682\n",
      "6.97984e-09\n",
      "Epoch = 111, train error = 0.00, test error = 0.00, loss: 0.00\n",
      "time: 1.207709789276123\n",
      "3.03295e-09\n",
      "Epoch = 121, train error = 0.00, test error = 0.00, loss: 0.00\n",
      "time: 1.1901240348815918\n",
      "1.52898e-09\n",
      "Epoch = 131, train error = 0.00, test error = 0.00, loss: 0.00\n",
      "time: 1.176112174987793\n",
      "7.68468e-10\n",
      "Epoch = 141, train error = 0.00, test error = 0.00, loss: 0.00\n",
      "time: 1.1430211067199707\n",
      "4.72977e-10\n",
      "Epoch = 151, train error = 0.00, test error = 0.00, loss: 0.00\n",
      "time: 1.2070417404174805\n",
      "2.14532e-10\n",
      "Epoch = 161, train error = 0.00, test error = 0.00, loss: 0.00\n",
      "time: 1.228776216506958\n",
      "1.08312e-10\n",
      "Epoch = 171, train error = 0.00, test error = 0.00, loss: 0.00\n",
      "time: 1.1720631122589111\n",
      "5.86867e-11\n",
      "Epoch = 181, train error = 0.00, test error = 0.00, loss: 0.00\n",
      "time: 1.2253808975219727\n",
      "2.77417e-11\n",
      "Epoch = 191, train error = 0.00, test error = 0.00, loss: 0.00\n"
     ]
    },
    {
     "ename": "KeyboardInterrupt",
     "evalue": "",
     "output_type": "error",
     "traceback": [
      "\u001b[0;31m---------------------------------------------------------------------------\u001b[0m",
      "\u001b[0;31mKeyboardInterrupt\u001b[0m                         Traceback (most recent call last)",
      "\u001b[0;32m<ipython-input-103-a75b2e47064b>\u001b[0m in \u001b[0;36m<module>\u001b[0;34m()\u001b[0m\n\u001b[1;32m     13\u001b[0m             \u001b[0midx1\u001b[0m \u001b[0;34m=\u001b[0m \u001b[0mBATCH_SIZE\u001b[0m \u001b[0;34m*\u001b[0m \u001b[0mi\u001b[0m\u001b[0;34m\u001b[0m\u001b[0m\n\u001b[1;32m     14\u001b[0m             \u001b[0midx2\u001b[0m \u001b[0;34m=\u001b[0m \u001b[0midx1\u001b[0m \u001b[0;34m+\u001b[0m \u001b[0mBATCH_SIZE\u001b[0m\u001b[0;34m\u001b[0m\u001b[0m\n\u001b[0;32m---> 15\u001b[0;31m             \u001b[0msess\u001b[0m\u001b[0;34m.\u001b[0m\u001b[0mrun\u001b[0m\u001b[0;34m(\u001b[0m\u001b[0;34m[\u001b[0m\u001b[0mupdates\u001b[0m\u001b[0;34m]\u001b[0m\u001b[0;34m,\u001b[0m \u001b[0mfeed_dict\u001b[0m\u001b[0;34m=\u001b[0m\u001b[0;34m{\u001b[0m\u001b[0mX\u001b[0m\u001b[0;34m:\u001b[0m \u001b[0mtrain_X\u001b[0m\u001b[0;34m[\u001b[0m\u001b[0midx1\u001b[0m\u001b[0;34m:\u001b[0m\u001b[0midx2\u001b[0m\u001b[0;34m]\u001b[0m\u001b[0;34m,\u001b[0m \u001b[0my\u001b[0m\u001b[0;34m:\u001b[0m \u001b[0mtrain_y\u001b[0m\u001b[0;34m[\u001b[0m\u001b[0midx1\u001b[0m\u001b[0;34m:\u001b[0m\u001b[0midx2\u001b[0m\u001b[0;34m]\u001b[0m\u001b[0;34m}\u001b[0m\u001b[0;34m)\u001b[0m\u001b[0;34m\u001b[0m\u001b[0m\n\u001b[0m\u001b[1;32m     16\u001b[0m \u001b[0;34m\u001b[0m\u001b[0m\n\u001b[1;32m     17\u001b[0m         \u001b[0mpred_train\u001b[0m \u001b[0;34m=\u001b[0m \u001b[0msess\u001b[0m\u001b[0;34m.\u001b[0m\u001b[0mrun\u001b[0m\u001b[0;34m(\u001b[0m\u001b[0;34m[\u001b[0m\u001b[0myhat\u001b[0m\u001b[0;34m]\u001b[0m\u001b[0;34m,\u001b[0m \u001b[0mfeed_dict\u001b[0m\u001b[0;34m=\u001b[0m\u001b[0;34m{\u001b[0m\u001b[0mX\u001b[0m\u001b[0;34m:\u001b[0m \u001b[0mtrain_X\u001b[0m\u001b[0;34m,\u001b[0m \u001b[0my\u001b[0m\u001b[0;34m:\u001b[0m \u001b[0mtrain_y\u001b[0m\u001b[0;34m}\u001b[0m\u001b[0;34m)\u001b[0m\u001b[0;34m\u001b[0m\u001b[0m\n",
      "\u001b[0;32m~/.envs/py3/lib/python3.6/site-packages/tensorflow/python/client/session.py\u001b[0m in \u001b[0;36mrun\u001b[0;34m(self, fetches, feed_dict, options, run_metadata)\u001b[0m\n\u001b[1;32m    893\u001b[0m     \u001b[0;32mtry\u001b[0m\u001b[0;34m:\u001b[0m\u001b[0;34m\u001b[0m\u001b[0m\n\u001b[1;32m    894\u001b[0m       result = self._run(None, fetches, feed_dict, options_ptr,\n\u001b[0;32m--> 895\u001b[0;31m                          run_metadata_ptr)\n\u001b[0m\u001b[1;32m    896\u001b[0m       \u001b[0;32mif\u001b[0m \u001b[0mrun_metadata\u001b[0m\u001b[0;34m:\u001b[0m\u001b[0;34m\u001b[0m\u001b[0m\n\u001b[1;32m    897\u001b[0m         \u001b[0mproto_data\u001b[0m \u001b[0;34m=\u001b[0m \u001b[0mtf_session\u001b[0m\u001b[0;34m.\u001b[0m\u001b[0mTF_GetBuffer\u001b[0m\u001b[0;34m(\u001b[0m\u001b[0mrun_metadata_ptr\u001b[0m\u001b[0;34m)\u001b[0m\u001b[0;34m\u001b[0m\u001b[0m\n",
      "\u001b[0;32m~/.envs/py3/lib/python3.6/site-packages/tensorflow/python/client/session.py\u001b[0m in \u001b[0;36m_run\u001b[0;34m(self, handle, fetches, feed_dict, options, run_metadata)\u001b[0m\n\u001b[1;32m   1126\u001b[0m     \u001b[0;32mif\u001b[0m \u001b[0mfinal_fetches\u001b[0m \u001b[0;32mor\u001b[0m \u001b[0mfinal_targets\u001b[0m \u001b[0;32mor\u001b[0m \u001b[0;34m(\u001b[0m\u001b[0mhandle\u001b[0m \u001b[0;32mand\u001b[0m \u001b[0mfeed_dict_tensor\u001b[0m\u001b[0;34m)\u001b[0m\u001b[0;34m:\u001b[0m\u001b[0;34m\u001b[0m\u001b[0m\n\u001b[1;32m   1127\u001b[0m       results = self._do_run(handle, final_targets, final_fetches,\n\u001b[0;32m-> 1128\u001b[0;31m                              feed_dict_tensor, options, run_metadata)\n\u001b[0m\u001b[1;32m   1129\u001b[0m     \u001b[0;32melse\u001b[0m\u001b[0;34m:\u001b[0m\u001b[0;34m\u001b[0m\u001b[0m\n\u001b[1;32m   1130\u001b[0m       \u001b[0mresults\u001b[0m \u001b[0;34m=\u001b[0m \u001b[0;34m[\u001b[0m\u001b[0;34m]\u001b[0m\u001b[0;34m\u001b[0m\u001b[0m\n",
      "\u001b[0;32m~/.envs/py3/lib/python3.6/site-packages/tensorflow/python/client/session.py\u001b[0m in \u001b[0;36m_do_run\u001b[0;34m(self, handle, target_list, fetch_list, feed_dict, options, run_metadata)\u001b[0m\n\u001b[1;32m   1342\u001b[0m     \u001b[0;32mif\u001b[0m \u001b[0mhandle\u001b[0m \u001b[0;32mis\u001b[0m \u001b[0;32mNone\u001b[0m\u001b[0;34m:\u001b[0m\u001b[0;34m\u001b[0m\u001b[0m\n\u001b[1;32m   1343\u001b[0m       return self._do_call(_run_fn, self._session, feeds, fetches, targets,\n\u001b[0;32m-> 1344\u001b[0;31m                            options, run_metadata)\n\u001b[0m\u001b[1;32m   1345\u001b[0m     \u001b[0;32melse\u001b[0m\u001b[0;34m:\u001b[0m\u001b[0;34m\u001b[0m\u001b[0m\n\u001b[1;32m   1346\u001b[0m       \u001b[0;32mreturn\u001b[0m \u001b[0mself\u001b[0m\u001b[0;34m.\u001b[0m\u001b[0m_do_call\u001b[0m\u001b[0;34m(\u001b[0m\u001b[0m_prun_fn\u001b[0m\u001b[0;34m,\u001b[0m \u001b[0mself\u001b[0m\u001b[0;34m.\u001b[0m\u001b[0m_session\u001b[0m\u001b[0;34m,\u001b[0m \u001b[0mhandle\u001b[0m\u001b[0;34m,\u001b[0m \u001b[0mfeeds\u001b[0m\u001b[0;34m,\u001b[0m \u001b[0mfetches\u001b[0m\u001b[0;34m)\u001b[0m\u001b[0;34m\u001b[0m\u001b[0m\n",
      "\u001b[0;32m~/.envs/py3/lib/python3.6/site-packages/tensorflow/python/client/session.py\u001b[0m in \u001b[0;36m_do_call\u001b[0;34m(self, fn, *args)\u001b[0m\n\u001b[1;32m   1348\u001b[0m   \u001b[0;32mdef\u001b[0m \u001b[0m_do_call\u001b[0m\u001b[0;34m(\u001b[0m\u001b[0mself\u001b[0m\u001b[0;34m,\u001b[0m \u001b[0mfn\u001b[0m\u001b[0;34m,\u001b[0m \u001b[0;34m*\u001b[0m\u001b[0margs\u001b[0m\u001b[0;34m)\u001b[0m\u001b[0;34m:\u001b[0m\u001b[0;34m\u001b[0m\u001b[0m\n\u001b[1;32m   1349\u001b[0m     \u001b[0;32mtry\u001b[0m\u001b[0;34m:\u001b[0m\u001b[0;34m\u001b[0m\u001b[0m\n\u001b[0;32m-> 1350\u001b[0;31m       \u001b[0;32mreturn\u001b[0m \u001b[0mfn\u001b[0m\u001b[0;34m(\u001b[0m\u001b[0;34m*\u001b[0m\u001b[0margs\u001b[0m\u001b[0;34m)\u001b[0m\u001b[0;34m\u001b[0m\u001b[0m\n\u001b[0m\u001b[1;32m   1351\u001b[0m     \u001b[0;32mexcept\u001b[0m \u001b[0merrors\u001b[0m\u001b[0;34m.\u001b[0m\u001b[0mOpError\u001b[0m \u001b[0;32mas\u001b[0m \u001b[0me\u001b[0m\u001b[0;34m:\u001b[0m\u001b[0;34m\u001b[0m\u001b[0m\n\u001b[1;32m   1352\u001b[0m       \u001b[0mmessage\u001b[0m \u001b[0;34m=\u001b[0m \u001b[0mcompat\u001b[0m\u001b[0;34m.\u001b[0m\u001b[0mas_text\u001b[0m\u001b[0;34m(\u001b[0m\u001b[0me\u001b[0m\u001b[0;34m.\u001b[0m\u001b[0mmessage\u001b[0m\u001b[0;34m)\u001b[0m\u001b[0;34m\u001b[0m\u001b[0m\n",
      "\u001b[0;32m~/.envs/py3/lib/python3.6/site-packages/tensorflow/python/client/session.py\u001b[0m in \u001b[0;36m_run_fn\u001b[0;34m(session, feed_dict, fetch_list, target_list, options, run_metadata)\u001b[0m\n\u001b[1;32m   1327\u001b[0m           return tf_session.TF_Run(session, options,\n\u001b[1;32m   1328\u001b[0m                                    \u001b[0mfeed_dict\u001b[0m\u001b[0;34m,\u001b[0m \u001b[0mfetch_list\u001b[0m\u001b[0;34m,\u001b[0m \u001b[0mtarget_list\u001b[0m\u001b[0;34m,\u001b[0m\u001b[0;34m\u001b[0m\u001b[0m\n\u001b[0;32m-> 1329\u001b[0;31m                                    status, run_metadata)\n\u001b[0m\u001b[1;32m   1330\u001b[0m \u001b[0;34m\u001b[0m\u001b[0m\n\u001b[1;32m   1331\u001b[0m     \u001b[0;32mdef\u001b[0m \u001b[0m_prun_fn\u001b[0m\u001b[0;34m(\u001b[0m\u001b[0msession\u001b[0m\u001b[0;34m,\u001b[0m \u001b[0mhandle\u001b[0m\u001b[0;34m,\u001b[0m \u001b[0mfeed_dict\u001b[0m\u001b[0;34m,\u001b[0m \u001b[0mfetch_list\u001b[0m\u001b[0;34m)\u001b[0m\u001b[0;34m:\u001b[0m\u001b[0;34m\u001b[0m\u001b[0m\n",
      "\u001b[0;31mKeyboardInterrupt\u001b[0m: "
     ]
    }
   ],
   "source": [
    "# Run SGD\n",
    "with tf.device('/cpu:0'):\n",
    "    sess = tf.Session()\n",
    "    init = tf.global_variables_initializer()\n",
    "    sess.run(init)\n",
    "    NUM_EPOCHS = 50000\n",
    "    BATCH_SIZE = 1000\n",
    "    for epoch in range(NUM_EPOCHS):\n",
    "        # Train with each example\n",
    "        tic = time.time()\n",
    "        num_iters = len(train_X) // BATCH_SIZE\n",
    "        for i in range(num_iters):\n",
    "            idx1 = BATCH_SIZE * i\n",
    "            idx2 = idx1 + BATCH_SIZE\n",
    "            sess.run([updates], feed_dict={X: train_X[idx1:idx2], y: train_y[idx1:idx2]})\n",
    "        \n",
    "        pred_train = sess.run([yhat], feed_dict={X: train_X, y: train_y})\n",
    "        train_error = 0 # TODO\n",
    "        \n",
    "        pred_test = sess.run(yhat, feed_dict={X: test_X, y: test_y})\n",
    "        test_error = 0 # TODO\n",
    "        toc = time.time()\n",
    "        if epoch % 10 == 0:\n",
    "            print('time:', toc-tic)\n",
    "            print(np.mean(pred_train))\n",
    "            print(\"Epoch = %d, train error = %.2f, test error = %.2f, loss: %.2f\"\n",
    "                  % (epoch + 1, train_error, test_error, np.mean(loss)))\n",
    "    sess.close()\n"
   ]
  },
  {
   "cell_type": "code",
   "execution_count": null,
   "metadata": {},
   "outputs": [],
   "source": []
  }
 ],
 "metadata": {
  "kernelspec": {
   "display_name": "Python 3",
   "language": "python",
   "name": "python3"
  },
  "language_info": {
   "codemirror_mode": {
    "name": "ipython",
    "version": 3
   },
   "file_extension": ".py",
   "mimetype": "text/x-python",
   "name": "python",
   "nbconvert_exporter": "python",
   "pygments_lexer": "ipython3",
   "version": "3.6.4"
  }
 },
 "nbformat": 4,
 "nbformat_minor": 2
}
