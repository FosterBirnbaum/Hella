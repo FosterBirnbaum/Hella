{
 "cells": [
  {
   "cell_type": "code",
   "execution_count": null,
   "metadata": {},
   "outputs": [],
   "source": [
    "%matplotlib notebook\n",
    "\n",
    "import time\n",
    "\n",
    "import pandas as pd\n",
    "from sklearn.model_selection import train_test_split\n",
    "import numpy as np\n",
    "from scipy.stats.stats import pearsonr\n",
    "import matplotlib.pyplot as plt\n",
    "import tensorflow as tf"
   ]
  },
  {
   "cell_type": "code",
   "execution_count": null,
   "metadata": {},
   "outputs": [],
   "source": [
    "# read dataset\n",
    "def load_data():\n",
    "    \"\"\"\n",
    "    TODO\n",
    "    \"\"\"\n",
    "    pass"
   ]
  },
  {
   "cell_type": "code",
   "execution_count": null,
   "metadata": {},
   "outputs": [],
   "source": [
    "def random_test_train_split(data):\n",
    "    \"\"\"\n",
    "    Splits the data into test and training sets, assuming last column is the label\n",
    "    \n",
    "    Parameters:\n",
    "    -----------\n",
    "    data: pandas.DataFrame\n",
    "        consolidated dataset returned by load_data() or normalize_data()\n",
    "    \"\"\"\n",
    "    x_cols = data.columns[:-1]\n",
    "    X = data[x_cols]\n",
    "    \n",
    "    y_cols = data.columns[-1:]\n",
    "    y = data[y_cols]\n",
    "    \n",
    "    X_train, X_test, y_train, y_test = train_test_split(X, y, test_size=0.2)\n",
    "    return X_train, X_test, y_train, y_test"
   ]
  },
  {
   "cell_type": "code",
   "execution_count": null,
   "metadata": {},
   "outputs": [],
   "source": [
    "def normalize_data(data):\n",
    "    \"\"\"\n",
    "    Centers continuous variables around 0, and scales by 1/std\n",
    "    \n",
    "    Parameters:\n",
    "    -----------\n",
    "    data: pandas.DataFrame\n",
    "        consolidated dataset returned by load_data()\n",
    "\n",
    "    TODO: handle categorical variables\n",
    "    \"\"\"\n",
    "    t_data = data - np.mean(data)\n",
    "    t_data = t_data / np.std(data)\n",
    "    return t_data"
   ]
  },
  {
   "cell_type": "code",
   "execution_count": null,
   "metadata": {},
   "outputs": [],
   "source": [
    "def forwardprop(X):\n",
    "    \"\"\"\n",
    "    yhat is not softmax since TensorFlow's softmax_cross_entropy_with_logits() does that internally.\n",
    "    \"\"\"\n",
    "    h1    = tf.contrib.layers.fully_connected(X, 128,\n",
    "                activation_fn=tf.nn.relu,\n",
    "                normalizer_fn=tf.contrib.layers.batch_norm,\n",
    "                normalizer_params=None,\n",
    "                weights_initializer=tf.contrib.layers.xavier_initializer(),\n",
    "                weights_regularizer=tf.contrib.layers.l2_regularizer(0.0),\n",
    "                biases_initializer=tf.zeros_initializer(),\n",
    "                biases_regularizer=None,\n",
    "                reuse=None,\n",
    "                variables_collections=None,\n",
    "                outputs_collections=None,\n",
    "                trainable=True,\n",
    "                scope=None\n",
    "            )\n",
    "    h2 = tf.contrib.layers.fully_connected(h1, 64,\n",
    "                activation_fn=tf.relu,\n",
    "                normalizer_fn=tf.contrib.layers.batch_norm,\n",
    "                normalizer_params=None,\n",
    "                weights_initializer=tf.contrib.layers.xavier_initializer(),\n",
    "                weights_regularizer=tf.contrib.layers.l2_regularizer(0.0),\n",
    "                biases_initializer=tf.zeros_initializer(),\n",
    "                biases_regularizer=None,\n",
    "                reuse=None,\n",
    "                variables_collections=None,\n",
    "                outputs_collections=None,\n",
    "                trainable=True,\n",
    "                scope=None\n",
    "            )\n",
    "    h3 = tf.contrib.layers.fully_connected(h2, 1,\n",
    "                activation_fn=tf.nn.sigmoid,\n",
    "                normalizer_fn=None,\n",
    "                normalizer_params=None,\n",
    "                weights_initializer=tf.contrib.layers.xavier_initializer(),\n",
    "                weights_regularizer=tf.contrib.layers.l2_regularizer(0.0),\n",
    "                biases_initializer=tf.zeros_initializer(),\n",
    "                biases_regularizer=None,\n",
    "                reuse=None,\n",
    "                variables_collections=None,\n",
    "                outputs_collections=None,\n",
    "                trainable=True,\n",
    "                scope=None\n",
    "            )\n",
    "    yhat = h3\n",
    "    return yhat"
   ]
  },
  {
   "cell_type": "code",
   "execution_count": null,
   "metadata": {},
   "outputs": [],
   "source": [
    "dataset = load_data()\n",
    "t_data = normalize_data(dataset)\n",
    "train_X, test_X, train_y, test_y = random_test_train_split(t_data)"
   ]
  },
  {
   "cell_type": "code",
   "execution_count": null,
   "metadata": {},
   "outputs": [],
   "source": [
    "# Layer's sizes\n",
    "x_size = train_X.shape[1]   # Number of input nodes\n",
    "y_size = train_y.shape[1]   # Number of outcomes\n"
   ]
  },
  {
   "cell_type": "code",
   "execution_count": null,
   "metadata": {},
   "outputs": [],
   "source": [
    "print(train_X.shape)"
   ]
  },
  {
   "cell_type": "code",
   "execution_count": null,
   "metadata": {},
   "outputs": [],
   "source": [
    "# Symbols\n",
    "X = tf.placeholder(\"float\", shape=[None, x_size])\n",
    "y = tf.placeholder(\"float\", shape=[None, y_size])"
   ]
  },
  {
   "cell_type": "code",
   "execution_count": null,
   "metadata": {},
   "outputs": [],
   "source": [
    "# Forward propagation\n",
    "yhat, h    = forwardprop(X)\n",
    "# predict = tf.argmax(yhat, axis=1)"
   ]
  },
  {
   "cell_type": "code",
   "execution_count": null,
   "metadata": {},
   "outputs": [],
   "source": [
    "# Backward propagation\n",
    "cost    = tf.nn.softmax_cross_entropy_with_logits(y, yhat)\n",
    "updates = tf.train.AdamOptimizer(0.01).minimize(cost)\n"
   ]
  },
  {
   "cell_type": "code",
   "execution_count": null,
   "metadata": {},
   "outputs": [],
   "source": [
    "# Run SGD\n",
    "with tf.device('/cpu:0'):\n",
    "    sess = tf.Session()\n",
    "    init = tf.global_variables_initializer()\n",
    "    sess.run(init)\n",
    "    NUM_EPOCHS = 50000\n",
    "    BATCH_SIZE = 1000\n",
    "    for epoch in range(NUM_EPOCHS):\n",
    "        # Train with each example\n",
    "        tic = time.time()\n",
    "        num_iters = len(train_X) // BATCH_SIZE\n",
    "        for i in range(num_iters):\n",
    "            idx1 = BATCH_SIZE * i\n",
    "            idx2 = idx1 + BATCH_SIZE\n",
    "            sess.run(updates, feed_dict={X: train_X[idx1:idx2], y: train_y[idx1:idx2]})\n",
    "        \n",
    "        h_out, pred_train = sess.run([h, yhat], feed_dict={X: train_X, y: train_y})\n",
    "        train_error = 0 # TODO\n",
    "        \n",
    "        pred_test = sess.run(yhat, feed_dict={X: test_X, y: test_y})\n",
    "        test_error = 0 # TODO\n",
    "        toc = time.time()\n",
    "        if epoch % 25 == 0:\n",
    "            print('time:', toc-tic)\n",
    "            print(np.mean(pred_train))\n",
    "            print(\"Epoch = %d, train error = %.2f, test error = %.2f\"\n",
    "                  % (epoch + 1, train_error, test_error))\n",
    "    sess.close()\n"
   ]
  }
 ],
 "metadata": {
  "kernelspec": {
   "display_name": "Python 3",
   "language": "python",
   "name": "python3"
  },
  "language_info": {
   "codemirror_mode": {
    "name": "ipython",
    "version": 3
   },
   "file_extension": ".py",
   "mimetype": "text/x-python",
   "name": "python",
   "nbconvert_exporter": "python",
   "pygments_lexer": "ipython3",
   "version": "3.6.4"
  }
 },
 "nbformat": 4,
 "nbformat_minor": 2
}
