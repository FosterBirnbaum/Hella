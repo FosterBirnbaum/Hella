{
 "cells": [
  {
   "cell_type": "code",
   "execution_count": 47,
   "metadata": {},
   "outputs": [],
   "source": [
    "import numpy as np\n",
    "from keras.models import Sequential\n",
    "from keras.layers import LSTM\n",
    "from keras.layers.core import Dense, Activation, Dropout"
   ]
  },
  {
   "cell_type": "code",
   "execution_count": 48,
   "metadata": {},
   "outputs": [],
   "source": [
    "epochs = 10\n",
    "batch_size = 50\n",
    "sequence_length = 4"
   ]
  },
  {
   "cell_type": "code",
   "execution_count": 56,
   "metadata": {},
   "outputs": [],
   "source": [
    "class ForecastModel(object):\n",
    "    \n",
    "    def __init__(self):\n",
    "        self.model = self.generate_model()\n",
    "    \n",
    "    def generate_model(self):\n",
    "        model = Sequential()\n",
    "        return model\n",
    "    \n",
    "    def normalize(self):\n",
    "        pass\n",
    "    \n",
    "    def prepare_data(self, data, train_start, train_end, test_start, test_end):\n",
    "        \n",
    "        print(\"preparing data\")\n",
    "        \n",
    "        print(\"create train n-grams\")\n",
    "        \n",
    "        train_grams = []\n",
    "        for i in range(train_start, train_end - sequence_length):\n",
    "            train_grams.append(data[i: i + sequence_length])\n",
    "        train_grams = np.array(train_grams)\n",
    "        # normalize in starter code\n",
    "        \n",
    "        print(\"train data shape : \", train_grams.shape)\n",
    "        \n",
    "        self.x_train = train_grams[:, :-1]\n",
    "        self.y_train = train_grams[:, -1]\n",
    "\n",
    "\n",
    "        print(\"create test n-grams\")\n",
    "        \n",
    "        test_grams = []\n",
    "        for i in range(test_start, test_end - sequence_length):\n",
    "            test_grams.append(data[i: i + sequence_length])\n",
    "        test_grams = np.array(test_grams)\n",
    "        # normalize in starter code\n",
    "        \n",
    "        print(\"test data shape : \", test_grams.shape)    \n",
    "        \n",
    "        self.x_test = test_grams[:, :-1]\n",
    "        self.y_test = test_grams[:, -1]        \n",
    "    \n",
    "    def train(self):\n",
    "        pass\n",
    "    \n",
    "    def test(self):\n",
    "        pass"
   ]
  },
  {
   "cell_type": "code",
   "execution_count": 54,
   "metadata": {},
   "outputs": [
    {
     "name": "stdout",
     "output_type": "stream",
     "text": [
      "create train n-grams\n",
      "train data shape :  (6, 4)\n",
      "create test n-grams\n",
      "test data shape :  (6, 4)\n"
     ]
    }
   ],
   "source": [
    "model = ForecastModel()\n",
    "data = np.arange(20)\n",
    "model.prepare_data(data, 0, 10, 10, 20)"
   ]
  },
  {
   "cell_type": "code",
   "execution_count": null,
   "metadata": {},
   "outputs": [],
   "source": []
  }
 ],
 "metadata": {
  "kernelspec": {
   "display_name": "Python 3",
   "language": "python",
   "name": "python3"
  },
  "language_info": {
   "codemirror_mode": {
    "name": "ipython",
    "version": 3
   },
   "file_extension": ".py",
   "mimetype": "text/x-python",
   "name": "python",
   "nbconvert_exporter": "python",
   "pygments_lexer": "ipython3",
   "version": "3.6.0"
  }
 },
 "nbformat": 4,
 "nbformat_minor": 2
}
